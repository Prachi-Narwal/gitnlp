{
 "cells": [
  {
   "cell_type": "markdown",
   "metadata": {},
   "source": [
    "## 1. HTML Tag cleaning"
   ]
  },
  {
   "cell_type": "code",
   "execution_count": 2,
   "metadata": {},
   "outputs": [],
   "source": [
    "sample_text= \"\"\"\n",
    "<!DOCTYPE html>\n",
    "<html lang=\"en\">\n",
    "<head>\n",
    "    <meta charset=\"UTF-8\">\n",
    "    <title>Sample NLP Text</title>\n",
    "</head>\n",
    "<body>\n",
    "    <h1>Welcome to the World of Fruits!</h1>\n",
    "    <p>Hello! I like to eat <strong>Guava</strong> and grapes every day. Meena's friends also enjoy Guava, but it’s quite rare in some markets.</p>\n",
    "    <p>In today’s digital world, people share their love for exotic fruits like <em>dragonfruit</em> and <em>staggeringly</em> unique lychees on social media.</p>\n",
    "    <div>\n",
    "        <h2>Why Fruits Matter</h2>\n",
    "        <p>Fruits bring joy and nutrition. Have you tried a starfruit? It’s an uncommon treat!</p>\n",
    "    </div>\n",
    "</body>\n",
    "</html>\n",
    "\"\"\""
   ]
  },
  {
   "cell_type": "code",
   "execution_count": null,
   "metadata": {},
   "outputs": [],
   "source": [
    "import re\n",
    "def striphtml(data):\n",
    "    p=re.compile(r'<.*?>')\n",
    "    return p.sub('',data)"
   ]
  },
  {
   "cell_type": "code",
   "execution_count": 12,
   "metadata": {},
   "outputs": [
    {
     "name": "stdout",
     "output_type": "stream",
     "text": [
      "\n",
      " \n",
      " \n",
      " \n",
      "     \n",
      "     Sample NLP Text \n",
      " \n",
      " \n",
      "     Welcome to the World of Fruits! \n",
      "     Hello! I like to eat  Guava  and grapes every day. Meena's friends also enjoy Guava, but it’s quite rare in some markets. \n",
      "     In today’s digital world, people share their love for exotic fruits like  dragonfruit  and  staggeringly  unique lychees on social media. \n",
      "     \n",
      "         Why Fruits Matter \n",
      "         Fruits bring joy and nutrition. Have you tried a starfruit? It’s an uncommon treat! \n",
      "     \n",
      " \n",
      " \n",
      "\n"
     ]
    }
   ],
   "source": [
    "print(striphtml(sample_text))"
   ]
  },
  {
   "cell_type": "markdown",
   "metadata": {},
   "source": [
    "## 2. Unicode normalization"
   ]
  },
  {
   "cell_type": "code",
   "execution_count": 13,
   "metadata": {},
   "outputs": [],
   "source": [
    "emoji_text=\"Hello! I love eating Guava 🥭 and grapes 🍇 every day. Meena’s friends also enjoy Guava 😊, but it’s rare in markets. In today’s world 🌍, people share their love for fruits like dragonfruit 🐉 and lychees 🌸 on social media 📱!\""
   ]
  },
  {
   "cell_type": "code",
   "execution_count": 15,
   "metadata": {},
   "outputs": [
    {
     "name": "stdout",
     "output_type": "stream",
     "text": [
      "b'Hello! I love eating Guava \\xf0\\x9f\\xa5\\xad and grapes \\xf0\\x9f\\x8d\\x87 every day. Meena\\xe2\\x80\\x99s friends also enjoy Guava \\xf0\\x9f\\x98\\x8a, but it\\xe2\\x80\\x99s rare in markets. In today\\xe2\\x80\\x99s world \\xf0\\x9f\\x8c\\x8d, people share their love for fruits like dragonfruit \\xf0\\x9f\\x90\\x89 and lychees \\xf0\\x9f\\x8c\\xb8 on social media \\xf0\\x9f\\x93\\xb1!'\n"
     ]
    }
   ],
   "source": [
    "print(emoji_text.encode('utf-8'))"
   ]
  },
  {
   "cell_type": "markdown",
   "metadata": {},
   "source": [
    "## 3. Spelling checker"
   ]
  },
  {
   "cell_type": "code",
   "execution_count": 45,
   "metadata": {},
   "outputs": [],
   "source": [
    "incorrect_text=\"I lovi eeating frits\""
   ]
  },
  {
   "cell_type": "code",
   "execution_count": 46,
   "metadata": {},
   "outputs": [
    {
     "data": {
      "text/plain": [
       "TextBlob(\"I love eating fruits\")"
      ]
     },
     "execution_count": 46,
     "metadata": {},
     "output_type": "execute_result"
    }
   ],
   "source": [
    "from textblob import TextBlob\n",
    "textBlb=TextBlob(incorrect_text)\n",
    "textBlb.correct()"
   ]
  },
  {
   "cell_type": "code",
   "execution_count": null,
   "metadata": {},
   "outputs": [],
   "source": []
  }
 ],
 "metadata": {
  "kernelspec": {
   "display_name": ".venv",
   "language": "python",
   "name": "python3"
  },
  "language_info": {
   "codemirror_mode": {
    "name": "ipython",
    "version": 3
   },
   "file_extension": ".py",
   "mimetype": "text/x-python",
   "name": "python",
   "nbconvert_exporter": "python",
   "pygments_lexer": "ipython3",
   "version": "3.12.0"
  }
 },
 "nbformat": 4,
 "nbformat_minor": 2
}
