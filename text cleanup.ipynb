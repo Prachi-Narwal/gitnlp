{
 "cells": [
  {
   "cell_type": "markdown",
   "metadata": {},
   "source": [
    "## 1. HTML Tag cleaning"
   ]
  },
  {
   "cell_type": "code",
   "execution_count": 2,
   "metadata": {},
   "outputs": [],
   "source": [
    "sample_text= \"\"\"\n",
    "<!DOCTYPE html>\n",
    "<html lang=\"en\">\n",
    "<head>\n",
    "    <meta charset=\"UTF-8\">\n",
    "    <title>Sample NLP Text</title>\n",
    "</head>\n",
    "<body>\n",
    "    <h1>Welcome to the World of Fruits!</h1>\n",
    "    <p>Hello! I like to eat <strong>Guava</strong> and grapes every day. Meena's friends also enjoy Guava, but it’s quite rare in some markets.</p>\n",
    "    <p>In today’s digital world, people share their love for exotic fruits like <em>dragonfruit</em> and <em>staggeringly</em> unique lychees on social media.</p>\n",
    "    <div>\n",
    "        <h2>Why Fruits Matter</h2>\n",
    "        <p>Fruits bring joy and nutrition. Have you tried a starfruit? It’s an uncommon treat!</p>\n",
    "    </div>\n",
    "</body>\n",
    "</html>\n",
    "\"\"\""
   ]
  },
  {
   "cell_type": "code",
   "execution_count": null,
   "metadata": {},
   "outputs": [],
   "source": []
  }
 ],
 "metadata": {
  "kernelspec": {
   "display_name": ".venv",
   "language": "python",
   "name": "python3"
  },
  "language_info": {
   "codemirror_mode": {
    "name": "ipython",
    "version": 3
   },
   "file_extension": ".py",
   "mimetype": "text/x-python",
   "name": "python",
   "nbconvert_exporter": "python",
   "pygments_lexer": "ipython3",
   "version": "3.12.0"
  }
 },
 "nbformat": 4,
 "nbformat_minor": 2
}
