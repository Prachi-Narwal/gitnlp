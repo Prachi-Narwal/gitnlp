{
 "cells": [
  {
   "cell_type": "markdown",
   "id": "acaebf55",
   "metadata": {},
   "source": [
    "## 1. Lower casing"
   ]
  },
  {
   "cell_type": "code",
   "execution_count": 2,
   "id": "d1ab591d",
   "metadata": {},
   "outputs": [],
   "source": [
    "import pandas as pd"
   ]
  },
  {
   "cell_type": "code",
   "execution_count": null,
   "id": "8f42469c",
   "metadata": {},
   "outputs": [],
   "source": [
    "df=pd.read_csv()"
   ]
  },
  {
   "cell_type": "markdown",
   "id": "68b5c27d",
   "metadata": {},
   "source": [
    "## Tokenization"
   ]
  },
  {
   "cell_type": "code",
   "execution_count": 3,
   "id": "86b7fdc5",
   "metadata": {},
   "outputs": [
    {
     "name": "stdout",
     "output_type": "stream",
     "text": [
      "Hello! I like to eat Guava, grapes.\n",
      "Meena's friends also like Guava.\n",
      "\n"
     ]
    },
    {
     "name": "stderr",
     "output_type": "stream",
     "text": [
      "[nltk_data] Downloading package punkt_tab to\n",
      "[nltk_data]     C:\\Users\\Lenovo\\AppData\\Roaming\\nltk_data...\n",
      "[nltk_data]   Package punkt_tab is already up-to-date!\n"
     ]
    }
   ],
   "source": [
    "import nltk\n",
    "nltk.download('punkt_tab')\n",
    "corpus=\"\"\"Hello! I like to eat Guava, grapes.\n",
    "Meena's friends also like Guava.\n",
    "\"\"\"\n",
    "print(corpus)"
   ]
  },
  {
   "cell_type": "code",
   "execution_count": 2,
   "id": "407152d8",
   "metadata": {},
   "outputs": [
    {
     "name": "stdout",
     "output_type": "stream",
     "text": [
      "['Hello!', 'I like to eat Guava, grapes.', \"Meena's friends also like Guava.\"]\n"
     ]
    }
   ],
   "source": [
    "# Tokenization\n",
    "# Paragraph --> sentences\n",
    "from nltk.tokenize import sent_tokenize\n",
    "documents=sent_tokenize(corpus)\n",
    "print(documents)"
   ]
  },
  {
   "cell_type": "code",
   "execution_count": 4,
   "id": "19773402",
   "metadata": {},
   "outputs": [
    {
     "name": "stdout",
     "output_type": "stream",
     "text": [
      "Hello!\n",
      "I like to eat Guava, grapes.\n",
      "Meena's friends also like Guava.\n"
     ]
    }
   ],
   "source": [
    "for sentence in documents:\n",
    "  print(sentence)"
   ]
  },
  {
   "cell_type": "code",
   "execution_count": 5,
   "id": "9cfe6f00",
   "metadata": {},
   "outputs": [
    {
     "name": "stdout",
     "output_type": "stream",
     "text": [
      "['Hello', '!', 'I', 'like', 'to', 'eat', 'Guava', ',', 'grapes', '.', 'Meena', \"'s\", 'friends', 'also', 'like', 'Guava', '.']\n"
     ]
    }
   ],
   "source": [
    "# Tokenization\n",
    "# paragraph --> words\n",
    "\n",
    "from nltk.tokenize import word_tokenize   # 's is taken as one\n",
    "words=word_tokenize(corpus)\n",
    "print(words)"
   ]
  },
  {
   "cell_type": "code",
   "execution_count": 6,
   "id": "597aede5",
   "metadata": {},
   "outputs": [
    {
     "name": "stdout",
     "output_type": "stream",
     "text": [
      "['Hello', '!']\n",
      "['I', 'like', 'to', 'eat', 'Guava', ',', 'grapes', '.']\n",
      "['Meena', \"'s\", 'friends', 'also', 'like', 'Guava', '.']\n"
     ]
    }
   ],
   "source": [
    "# sentence --> words\n",
    "for sentence in documents:\n",
    "  print(word_tokenize(sentence))"
   ]
  },
  {
   "cell_type": "code",
   "execution_count": 8,
   "id": "b76c6f45",
   "metadata": {},
   "outputs": [
    {
     "name": "stdout",
     "output_type": "stream",
     "text": [
      "['Hello', '!', 'I', 'like', 'to', 'eat', 'Guava', ',', 'grapes', '.', 'Meena', \"'\", 's', 'friends', 'also', 'like', 'Guava', '.']\n"
     ]
    }
   ],
   "source": [
    "from nltk import wordpunct_tokenize # 's is taken as 2 tokens\n",
    "print(wordpunct_tokenize(corpus))"
   ]
  },
  {
   "cell_type": "code",
   "execution_count": 10,
   "id": "749d5418",
   "metadata": {},
   "outputs": [
    {
     "name": "stdout",
     "output_type": "stream",
     "text": [
      "['Hello', '!', 'I', 'like', 'to', 'eat', 'Guava', ',', 'grapes.', 'Meena', \"'s\", 'friends', 'also', 'like', 'Guava', '.']\n"
     ]
    }
   ],
   "source": [
    "from nltk import TreebankWordTokenizer  # . is not treated separately, only last . is treated seprately\n",
    "tokenizer=TreebankWordTokenizer()  # it is a class\n",
    "print(tokenizer.tokenize(corpus))"
   ]
  },
  {
   "cell_type": "code",
   "execution_count": null,
   "id": "ecac9618",
   "metadata": {},
   "outputs": [],
   "source": []
  }
 ],
 "metadata": {
  "kernelspec": {
   "display_name": ".venv",
   "language": "python",
   "name": "python3"
  },
  "language_info": {
   "codemirror_mode": {
    "name": "ipython",
    "version": 3
   },
   "file_extension": ".py",
   "mimetype": "text/x-python",
   "name": "python",
   "nbconvert_exporter": "python",
   "pygments_lexer": "ipython3",
   "version": "3.12.0"
  }
 },
 "nbformat": 4,
 "nbformat_minor": 5
}
